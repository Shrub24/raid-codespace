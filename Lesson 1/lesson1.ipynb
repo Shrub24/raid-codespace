{
 "cells": [
  {
   "cell_type": "markdown",
   "id": "80c56e41",
   "metadata": {},
   "source": [
    "# Lesson 1 - Getting started with Open AI\n",
    "\n",
    "Let's learn how to do our first API call! First lets load some packages and get our API key secret"
   ]
  },
  {
   "cell_type": "code",
   "execution_count": null,
   "id": "cb6b1d78",
   "metadata": {},
   "outputs": [],
   "source": [
    "# Setup\n",
    "from openai import OpenAI\n",
    "from dotenv import load_dotenv\n",
    "import os\n",
    "\n",
    "# Load .env file for non-codespace users\n",
    "load_dotenv()\n",
    "\n",
    "# Get OPENAI_API_KEY secret env variable\n",
    "OPENAI_API_KEY = os.getenv(\"OPENAI_API_KEY\")"
   ]
  },
  {
   "cell_type": "markdown",
   "id": "b027cd9f",
   "metadata": {},
   "source": [
    "### Now let's call the OpenAI API"
   ]
  },
  {
   "cell_type": "code",
   "execution_count": null,
   "id": "1244d230",
   "metadata": {},
   "outputs": [],
   "source": [
    "client = OpenAI()\n",
    "\n",
    "response = client.responses.create(\n",
    "    # Write your arguments here\n",
    "    \n",
    ")"
   ]
  },
  {
   "cell_type": "markdown",
   "id": "633a78ff",
   "metadata": {},
   "source": [
    "### Next let's try adding some instructions and reasoning directives"
   ]
  },
  {
   "cell_type": "code",
   "execution_count": null,
   "id": "0bc17064",
   "metadata": {},
   "outputs": [],
   "source": [
    "response = client.responses.create(\n",
    "    # Write your arguments here\n",
    "    \n",
    ")"
   ]
  },
  {
   "cell_type": "markdown",
   "id": "e8e9fa8d",
   "metadata": {},
   "source": [
    "### Now let's try and get it to generate an image"
   ]
  },
  {
   "cell_type": "markdown",
   "id": "9d04e9f2",
   "metadata": {},
   "source": []
  },
  {
   "cell_type": "markdown",
   "id": "53d38787",
   "metadata": {},
   "source": [
    "### Now onto where things start to get a lot more powerful, tool calls! Let's get OpenAI to intelligently search the web for us."
   ]
  },
  {
   "cell_type": "code",
   "execution_count": null,
   "id": "63c76b53",
   "metadata": {},
   "outputs": [],
   "source": []
  }
 ],
 "metadata": {
  "kernelspec": {
   "display_name": "Python 3",
   "language": "python",
   "name": "python3"
  },
  "language_info": {
   "codemirror_mode": {
    "name": "ipython",
    "version": 3
   },
   "file_extension": ".py",
   "mimetype": "text/x-python",
   "name": "python",
   "nbconvert_exporter": "python",
   "pygments_lexer": "ipython3",
   "version": "3.12.11"
  }
 },
 "nbformat": 4,
 "nbformat_minor": 5
}
